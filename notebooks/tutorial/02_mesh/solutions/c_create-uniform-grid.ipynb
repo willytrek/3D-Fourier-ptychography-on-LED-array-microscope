{
  "cells": [
    {
      "cell_type": "markdown",
      "metadata": {
        "id": "CUH7yXI7lDCA"
      },
      "source": [
        "# Creating a Uniform Grid {#create_uniform_grid_solution}\n",
        "\n",
        "Create a simple uniform grid from a 3D NumPy array of values.\n"
      ]
    },
    {
      "cell_type": "code",
      "execution_count": null,
      "metadata": {
        "id": "sROpXgG3lDCE",
        "outputId": "a748c466-3524-442d-8b1a-bb9962b5b909",
        "colab": {
          "base_uri": "https://localhost:8080/"
        }
      },
      "outputs": [
        {
          "output_type": "stream",
          "name": "stdout",
          "text": [
            "Requirement already satisfied: pyvista in /usr/local/lib/python3.11/dist-packages (0.44.2)\n",
            "Requirement already satisfied: matplotlib>=3.0.1 in /usr/local/lib/python3.11/dist-packages (from pyvista) (3.10.0)\n",
            "Requirement already satisfied: numpy>=1.21.0 in /usr/local/lib/python3.11/dist-packages (from pyvista) (1.26.4)\n",
            "Requirement already satisfied: pillow in /usr/local/lib/python3.11/dist-packages (from pyvista) (11.1.0)\n",
            "Requirement already satisfied: pooch in /usr/local/lib/python3.11/dist-packages (from pyvista) (1.8.2)\n",
            "Requirement already satisfied: scooby>=0.5.1 in /usr/local/lib/python3.11/dist-packages (from pyvista) (0.10.0)\n",
            "Requirement already satisfied: vtk<9.4.0 in /usr/local/lib/python3.11/dist-packages (from pyvista) (9.3.1)\n",
            "Requirement already satisfied: typing-extensions in /usr/local/lib/python3.11/dist-packages (from pyvista) (4.12.2)\n",
            "Requirement already satisfied: contourpy>=1.0.1 in /usr/local/lib/python3.11/dist-packages (from matplotlib>=3.0.1->pyvista) (1.3.1)\n",
            "Requirement already satisfied: cycler>=0.10 in /usr/local/lib/python3.11/dist-packages (from matplotlib>=3.0.1->pyvista) (0.12.1)\n",
            "Requirement already satisfied: fonttools>=4.22.0 in /usr/local/lib/python3.11/dist-packages (from matplotlib>=3.0.1->pyvista) (4.56.0)\n",
            "Requirement already satisfied: kiwisolver>=1.3.1 in /usr/local/lib/python3.11/dist-packages (from matplotlib>=3.0.1->pyvista) (1.4.8)\n",
            "Requirement already satisfied: packaging>=20.0 in /usr/local/lib/python3.11/dist-packages (from matplotlib>=3.0.1->pyvista) (24.2)\n",
            "Requirement already satisfied: pyparsing>=2.3.1 in /usr/local/lib/python3.11/dist-packages (from matplotlib>=3.0.1->pyvista) (3.2.1)\n",
            "Requirement already satisfied: python-dateutil>=2.7 in /usr/local/lib/python3.11/dist-packages (from matplotlib>=3.0.1->pyvista) (2.8.2)\n",
            "Requirement already satisfied: platformdirs>=2.5.0 in /usr/local/lib/python3.11/dist-packages (from pooch->pyvista) (4.3.6)\n",
            "Requirement already satisfied: requests>=2.19.0 in /usr/local/lib/python3.11/dist-packages (from pooch->pyvista) (2.32.3)\n",
            "Requirement already satisfied: six>=1.5 in /usr/local/lib/python3.11/dist-packages (from python-dateutil>=2.7->matplotlib>=3.0.1->pyvista) (1.17.0)\n",
            "Requirement already satisfied: charset-normalizer<4,>=2 in /usr/local/lib/python3.11/dist-packages (from requests>=2.19.0->pooch->pyvista) (3.4.1)\n",
            "Requirement already satisfied: idna<4,>=2.5 in /usr/local/lib/python3.11/dist-packages (from requests>=2.19.0->pooch->pyvista) (3.10)\n",
            "Requirement already satisfied: urllib3<3,>=1.21.1 in /usr/local/lib/python3.11/dist-packages (from requests>=2.19.0->pooch->pyvista) (2.3.0)\n",
            "Requirement already satisfied: certifi>=2017.4.17 in /usr/local/lib/python3.11/dist-packages (from requests>=2.19.0->pooch->pyvista) (2025.1.31)\n"
          ]
        }
      ],
      "source": [
        "!pip install pyvista\n",
        "import numpy as np\n",
        "import pyvista as pv"
      ]
    },
    {
      "cell_type": "markdown",
      "metadata": {
        "id": "yWxXbvfAlDCF"
      },
      "source": [
        "Take a 3D NumPy array of data values that holds some spatial data where\n",
        "each axis corresponds to the XYZ cartesian axes. This example will\n",
        "create a `pyvista.ImageData`{.interpreted-text role=\"class\"} that will\n",
        "hold the spatial reference for a 3D grid by which a 3D NumPy array of\n",
        "values can be plotted against.\n"
      ]
    },
    {
      "cell_type": "markdown",
      "metadata": {
        "id": "djwCYrcrlDCG"
      },
      "source": [
        "Create the 3D NumPy array of spatially referenced data. This is\n",
        "spatially referenced such that the grid is `(20, 5, 10)` `(nx, ny, nz)`.\n"
      ]
    },
    {
      "cell_type": "code",
      "execution_count": null,
      "metadata": {
        "id": "uGxjvZuNlDCG"
      },
      "outputs": [],
      "source": [
        "values = np.linspace(0, 10, 1000).reshape((20, 5, 10))\n",
        "values.shape"
      ]
    },
    {
      "cell_type": "markdown",
      "metadata": {
        "id": "Na0oiNOGlDCH"
      },
      "source": [
        "Create the ImageData\n"
      ]
    },
    {
      "cell_type": "code",
      "execution_count": null,
      "metadata": {
        "id": "Bg2O2giJlDCH"
      },
      "outputs": [],
      "source": [
        "grid = pv.ImageData()"
      ]
    },
    {
      "cell_type": "markdown",
      "metadata": {
        "id": "wGo-mmj9lDCI"
      },
      "source": [
        "Set the grid dimensions to `shape + 1` because we want to inject our\n",
        "values on the CELL data.\n"
      ]
    },
    {
      "cell_type": "code",
      "execution_count": null,
      "metadata": {
        "id": "v28DlSAAlDCI"
      },
      "outputs": [],
      "source": [
        "grid.dimensions = np.array(values.shape) + 1"
      ]
    },
    {
      "cell_type": "markdown",
      "metadata": {
        "id": "c9oYPRo9lDCJ"
      },
      "source": [
        "Edit the spatial reference\n"
      ]
    },
    {
      "cell_type": "code",
      "execution_count": null,
      "metadata": {
        "id": "FELodVUZlDCJ"
      },
      "outputs": [],
      "source": [
        "grid.origin = (100, 33, 55.6)  # The bottom left corner of the data set\n",
        "grid.spacing = (1, 5, 2)  # These are the cell sizes along each axis"
      ]
    },
    {
      "cell_type": "markdown",
      "metadata": {
        "id": "a_ZiwZ7clDCJ"
      },
      "source": [
        "Assign the data to the cell data. Be sure to flatten the data for\n",
        "`ImageData` objects using Fortran ordering.\n"
      ]
    },
    {
      "cell_type": "code",
      "execution_count": null,
      "metadata": {
        "id": "ITXNXNrzlDCK"
      },
      "outputs": [],
      "source": [
        "grid.cell_data[\"values\"] = values.flatten(order=\"F\")\n",
        "grid"
      ]
    },
    {
      "cell_type": "markdown",
      "metadata": {
        "id": "TtBbrWDflDCK"
      },
      "source": [
        "Now plot the grid!\n"
      ]
    },
    {
      "cell_type": "code",
      "execution_count": null,
      "metadata": {
        "id": "Us_Ul7bHlDCK"
      },
      "outputs": [],
      "source": [
        "grid.plot(show_edges=True)"
      ]
    },
    {
      "cell_type": "markdown",
      "metadata": {
        "id": "kQWMqNfflDCK"
      },
      "source": [
        "Don\\'t like cell data? You could also add the NumPy array to the point\n",
        "data of a `pyvista.ImageData`{.interpreted-text role=\"class\"}. Take note\n",
        "of the subtle difference when setting the grid dimensions upon\n",
        "initialization.\n"
      ]
    },
    {
      "cell_type": "code",
      "execution_count": null,
      "metadata": {
        "id": "lUb5KsTSlDCK"
      },
      "outputs": [],
      "source": [
        "# Create the 3D NumPy array of spatially referenced data again.\n",
        "values = np.linspace(0, 10, 1000).reshape((20, 5, 10))\n",
        "values.shape"
      ]
    },
    {
      "cell_type": "markdown",
      "metadata": {
        "id": "9loqY4OXlDCL"
      },
      "source": [
        "Create the PyVista object and set the same attributes as earlier.\n"
      ]
    },
    {
      "cell_type": "code",
      "execution_count": null,
      "metadata": {
        "id": "P4kWL003lDCL"
      },
      "outputs": [],
      "source": [
        "grid = pv.ImageData()\n",
        "\n",
        "# Set the grid dimensions to ``shape`` because we want to inject our values on\n",
        "# the POINT data\n",
        "grid.dimensions = values.shape\n",
        "\n",
        "# Edit the spatial reference\n",
        "grid.origin = (100, 33, 55.6)  # The bottom left corner of the data set\n",
        "grid.spacing = (1, 5, 2)  # These are the cell sizes along each axis"
      ]
    },
    {
      "cell_type": "markdown",
      "metadata": {
        "id": "-kZFRLXRlDCL"
      },
      "source": [
        "Add the data values to the cell data\n"
      ]
    },
    {
      "cell_type": "code",
      "execution_count": null,
      "metadata": {
        "id": "evpw3wY_lDCL"
      },
      "outputs": [],
      "source": [
        "grid.point_data[\"values\"] = values.flatten(order=\"F\")  # Flatten the array!\n",
        "grid"
      ]
    },
    {
      "cell_type": "markdown",
      "metadata": {
        "id": "wv_YujEClDCM"
      },
      "source": [
        "Now plot the grid!\n"
      ]
    },
    {
      "cell_type": "code",
      "execution_count": null,
      "metadata": {
        "id": "CcZaj8CTlDCM"
      },
      "outputs": [],
      "source": [
        "grid.plot(show_edges=True)"
      ]
    },
    {
      "cell_type": "markdown",
      "metadata": {
        "id": "n0pJyKFLlDCM"
      },
      "source": [
        "# Exercise\n",
        "\n",
        "Now create your own `pyvista.ImageData`{.interpreted-text role=\"class\"}\n",
        "from a 3D NumPy array!\n"
      ]
    },
    {
      "cell_type": "code",
      "execution_count": null,
      "metadata": {
        "id": "OIqj0pKRlDCM"
      },
      "outputs": [],
      "source": [
        "help(pv.ImageData)"
      ]
    },
    {
      "cell_type": "markdown",
      "metadata": {
        "id": "9wO4pyVilDCM"
      },
      "source": [
        "Generate example 3D data using `numpy.random.random`{.interpreted-text\n",
        "role=\"func\"}. Feel free to use your own 3D numpy array here.\n"
      ]
    },
    {
      "cell_type": "code",
      "execution_count": null,
      "metadata": {
        "id": "ZkxVgC3-lDCM"
      },
      "outputs": [],
      "source": [
        "arr = np.random.random((100, 100, 100))\n",
        "arr.shape"
      ]
    },
    {
      "cell_type": "markdown",
      "metadata": {
        "id": "jrNfKVM3lDCM"
      },
      "source": [
        "Create the `pyvista.ImageData`{.interpreted-text role=\"class\"}.\n",
        "\n",
        "::: note\n",
        "::: title\n",
        "Note\n",
        ":::\n",
        "\n",
        "You will likely need to `ravel` the array with Fortran-ordering:\n",
        "`arr.ravel(order=\"F\")`\n",
        ":::\n"
      ]
    },
    {
      "cell_type": "code",
      "execution_count": null,
      "metadata": {
        "id": "GpIxswBDlDCN"
      },
      "outputs": [],
      "source": [
        "vol = pv.ImageData()\n",
        "vol.dimensions = arr.shape\n",
        "vol[\"array\"] = arr.ravel(order=\"F\")"
      ]
    },
    {
      "cell_type": "markdown",
      "metadata": {
        "id": "9Bs-1V89lDCN"
      },
      "source": [
        "Plot the ImageData\n"
      ]
    },
    {
      "cell_type": "code",
      "execution_count": null,
      "metadata": {
        "id": "W6iCyBYslDCN"
      },
      "outputs": [],
      "source": [
        "vol.plot()"
      ]
    },
    {
      "cell_type": "markdown",
      "metadata": {
        "id": "9Ags-dnBlDCN"
      },
      "source": [
        "# Example\n",
        "\n",
        "PyVista has several examples that use `ImageData`.\n",
        "\n",
        "See the PyVista documentation for further details on [Volume\n",
        "Rendering](https://docs.pyvista.org/examples/02-plot/volume.html)\n",
        "\n",
        "Here\\'s one of these example datasets:\n"
      ]
    },
    {
      "cell_type": "code",
      "execution_count": null,
      "metadata": {
        "id": "dkmiuUO6lDCN"
      },
      "outputs": [],
      "source": [
        "from pyvista import examples\n",
        "\n",
        "vol = examples.download_knee_full()\n",
        "\n",
        "p = pv.Plotter()\n",
        "p.add_volume(vol, cmap=\"bone\", opacity=\"sigmoid\")\n",
        "p.show()"
      ]
    },
    {
      "cell_type": "code",
      "execution_count": null,
      "metadata": {
        "id": "VsS4s8n2lDCO"
      },
      "outputs": [],
      "source": [
        "vol = pv.Wavelet()\n",
        "vol.plot(volume=True)"
      ]
    },
    {
      "cell_type": "markdown",
      "metadata": {
        "id": "20THUmKGlDCO"
      },
      "source": [
        "```{=html}\n",
        "<center>\n",
        "  <a target=\"_blank\" href=\"https://colab.research.google.com/github/pyvista/pyvista-tutorial/blob/gh-pages/notebooks/tutorial/02_mesh/solutions/c_create-uniform-grid.ipynb\">\n",
        "    <img src=\"https://colab.research.google.com/assets/colab-badge.svg\" alt=\"Open In Colab\"/ width=\"150px\">\n",
        "  </a>\n",
        "</center>\n",
        "```\n"
      ]
    }
  ],
  "metadata": {
    "kernelspec": {
      "display_name": "Python 3",
      "language": "python",
      "name": "python3"
    },
    "language_info": {
      "codemirror_mode": {
        "name": "ipython",
        "version": 3
      },
      "file_extension": ".py",
      "mimetype": "text/x-python",
      "name": "python",
      "nbconvert_exporter": "python",
      "pygments_lexer": "ipython3",
      "version": "3.11.11"
    },
    "colab": {
      "provenance": []
    }
  },
  "nbformat": 4,
  "nbformat_minor": 0
}